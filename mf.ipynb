{
 "cells": [
  {
   "cell_type": "code",
   "execution_count": 27,
   "metadata": {
    "scrolled": false
   },
   "outputs": [],
   "source": [
    "import pandas as pd\n",
    "import numpy as np\n",
    "from scipy.sparse import coo_matrix"
   ]
  },
  {
   "cell_type": "code",
   "execution_count": 121,
   "metadata": {
    "scrolled": true
   },
   "outputs": [],
   "source": [
    "data_df = pd.read_csv('./Steam.csv', sep=',', names=[\"User ID\",\"Name\",\"Type\",\"Hours\"], engine='python')\n",
    "#data_df = data_df[data_df[\"Type\"] == \"purchase\"]\n",
    "\n",
    "\n",
    "unique_GameID = data_df['Name'].unique()\n",
    "unique_UserID = data_df['User ID'].unique()\n",
    "\n",
    "j = 0\n",
    "user_old2new_id_dict = dict()\n",
    "for u in unique_UserID:\n",
    "    user_old2new_id_dict[u] = j\n",
    "    j += 1\n",
    "\n",
    "j = 0\n",
    "game_old2new_id_dict = dict()\n",
    "for i in unique_GameID:\n",
    "    game_old2new_id_dict[i] = j\n",
    "    j += 1\n",
    "\n",
    "# Then, use the generated dictionaries to reindex UserID and MovieID in the data_df\n",
    "for j in range(len(data_df)):\n",
    "    data_df.at[j, 'User ID'] = user_old2new_id_dict[data_df.at[j, 'User ID']]\n",
    "   \n",
    "    \n",
    "    data_df.at[j, 'Name'] = game_old2new_id_dict[data_df.at[j, 'Name']]\n",
    "\n",
    "data_df = data_df[data_df[\"Type\"] == \"purchase\"]"
   ]
  },
  {
   "cell_type": "code",
   "execution_count": 122,
   "metadata": {
    "scrolled": true
   },
   "outputs": [
    {
     "name": "stdout",
     "output_type": "stream",
     "text": [
      "The testing dataframe is of size: 38853\n",
      "The training dataframe is of size: 90658\n"
     ]
    }
   ],
   "source": [
    "test_df = data_df.sample(frac = 0.3, random_state = np.random.randint(1024))\n",
    "train_df = data_df.drop(test_df.index)\n",
    "\n",
    "print (\"The testing dataframe is of size: \" + str(len(test_df)))\n",
    "print (\"The training dataframe is of size: \" + str(len(train_df)))"
   ]
  },
  {
   "cell_type": "code",
   "execution_count": 123,
   "metadata": {},
   "outputs": [],
   "source": [
    "num_user = len(data_df['User ID'].unique())\n",
    "num_game = len(data_df['Name'].unique())\n",
    "\n",
    "data_mat = coo_matrix((data_df['Hours'].values, (data_df['User ID'].values, data_df['Name'].values)), shape=(num_user, num_game)).toarray().astype(float)\n",
    "train_mat = coo_matrix((train_df['Hours'].values, (train_df['User ID'].values, train_df['Name'].values)), shape=(num_user, num_game)).toarray().astype(float)\n",
    "test_mat = coo_matrix((test_df['Hours'].values, (test_df['User ID'].values, test_df['Name'].values)), shape=(num_user, num_game)).toarray().astype(float)"
   ]
  },
  {
   "cell_type": "code",
   "execution_count": 124,
   "metadata": {
    "scrolled": true
   },
   "outputs": [],
   "source": [
    "popularity = np.sum(data_mat,axis=0)\n",
    "\n",
    "inv_names = {v: k for k, v in game_old2new_id_dict.items()}\n",
    "\n",
    "\n",
    "top = []\n",
    "#print (list(movie_old2new_id_dict))\n",
    "for i in range (len(popularity)):\n",
    "    #print (i)\n",
    "    if (i in inv_names):\n",
    "        top.append((popularity[i],inv_names[i]))\n",
    "\n",
    "top.sort()\n",
    "top.reverse()\n",
    "top2 = []\n",
    "for i in top[:61]:\n",
    "    top2.append(i[1])\n"
   ]
  },
  {
   "cell_type": "code",
   "execution_count": 132,
   "metadata": {},
   "outputs": [
    {
     "name": "stdout",
     "output_type": "stream",
     "text": [
      "['Dota 2', 'Counter-Strike', 'Counter-Strike Condition Zero', 'War Thunder', 'Terraria', 'PlanetSide 2', 'Team Fortress Classic', 'Call of Duty Modern Warfare 2', 'Metro 2033', 'Left 4 Dead', 'Grand Theft Auto V']\n"
     ]
    }
   ],
   "source": [
    "import csv\n",
    "\n",
    "train_mat_plus = np.copy(train_mat)\n",
    "\n",
    "with open(\"GGs 489 survey (Responses) - Form Responses 1.csv\", newline='') as f:\n",
    "    reader = csv.reader(f)\n",
    "    data = list(reader)\n",
    "\n",
    "data = data[1:]\n",
    "\n",
    "for i in range (len(data)):\n",
    "    data[i][1] = data[i][1].split(\", \")\n",
    "print (data[0][1])\n",
    "\n",
    "for i in range (len(data)):\n",
    "    k = np.zeros((1,num_game))\n",
    "    \n",
    "    for j in data[i][1]:\n",
    "        k[0,game_old2new_id_dict[j]] = 1\n",
    "\n",
    "    train_mat_plus = np.vstack([train_mat_plus, k])\n"
   ]
  },
  {
   "cell_type": "code",
   "execution_count": 133,
   "metadata": {},
   "outputs": [
    {
     "name": "stdout",
     "output_type": "stream",
     "text": [
      "12393.0\n",
      "12394.0\n"
     ]
    }
   ],
   "source": [
    "print (train_mat.size/num_game)\n",
    "print (train_mat_plus.size/num_game)"
   ]
  },
  {
   "cell_type": "code",
   "execution_count": null,
   "metadata": {},
   "outputs": [],
   "source": []
  }
 ],
 "metadata": {
  "kernelspec": {
   "display_name": "Python 3",
   "language": "python",
   "name": "python3"
  },
  "language_info": {
   "codemirror_mode": {
    "name": "ipython",
    "version": 3
   },
   "file_extension": ".py",
   "mimetype": "text/x-python",
   "name": "python",
   "nbconvert_exporter": "python",
   "pygments_lexer": "ipython3",
   "version": "3.8.5"
  }
 },
 "nbformat": 4,
 "nbformat_minor": 5
}
