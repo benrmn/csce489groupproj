{
 "cells": [
  {
   "cell_type": "code",
   "execution_count": 2,
   "metadata": {
    "scrolled": false
   },
   "outputs": [],
   "source": [
    "import pandas as pd\n",
    "import numpy as np\n",
    "from scipy.sparse import coo_matrix"
   ]
  },
  {
   "cell_type": "code",
   "execution_count": 51,
   "metadata": {
    "scrolled": true
   },
   "outputs": [],
   "source": [
    "data_df = pd.read_csv('./Steam.csv', sep=',', names=[\"User ID\",\"Name\",\"Type\",\"Hours\"], engine='python')\n",
    "#data_df = data_df[data_df[\"Type\"] == \"purchase\"]\n",
    "\n",
    "\n",
    "unique_GameID = data_df['Name'].unique()\n",
    "unique_UserID = data_df['User ID'].unique()\n",
    "\n",
    "user_count_j = 0\n",
    "user_old2new_id_dict = dict()\n",
    "for u in unique_UserID:\n",
    "    user_old2new_id_dict[u] = user_count_j\n",
    "    user_count_j += 1\n",
    "\n",
    "game_count_j = 0\n",
    "game_old2new_id_dict = dict()\n",
    "for i in unique_GameID:\n",
    "    game_old2new_id_dict[i] = game_count_j\n",
    "    game_count_j += 1\n",
    "\n",
    "# Then, use the generated dictionaries to reindex UserID and MovieID in the data_df\n",
    "for j in range(len(data_df)):\n",
    "    data_df.at[j, 'User ID'] = user_old2new_id_dict[data_df.at[j, 'User ID']]\n",
    "   \n",
    "    \n",
    "    data_df.at[j, 'Name'] = game_old2new_id_dict[data_df.at[j, 'Name']]\n",
    "\n",
    "data_df = data_df[data_df[\"Type\"] == \"purchase\"]"
   ]
  },
  {
   "cell_type": "code",
   "execution_count": 52,
   "metadata": {
    "scrolled": false
   },
   "outputs": [],
   "source": [
    "inv_names = {v: k for k, v in game_old2new_id_dict.items()}\n",
    "inv_users = {v: k for k, v in user_old2new_id_dict.items()}"
   ]
  },
  {
   "cell_type": "code",
   "execution_count": 53,
   "metadata": {},
   "outputs": [
    {
     "data": {
      "text/html": [
       "<div>\n",
       "<style scoped>\n",
       "    .dataframe tbody tr th:only-of-type {\n",
       "        vertical-align: middle;\n",
       "    }\n",
       "\n",
       "    .dataframe tbody tr th {\n",
       "        vertical-align: top;\n",
       "    }\n",
       "\n",
       "    .dataframe thead th {\n",
       "        text-align: right;\n",
       "    }\n",
       "</style>\n",
       "<table border=\"1\" class=\"dataframe\">\n",
       "  <thead>\n",
       "    <tr style=\"text-align: right;\">\n",
       "      <th></th>\n",
       "      <th>User ID</th>\n",
       "      <th>Name</th>\n",
       "      <th>Type</th>\n",
       "      <th>Hours</th>\n",
       "    </tr>\n",
       "  </thead>\n",
       "  <tbody>\n",
       "    <tr>\n",
       "      <th>0</th>\n",
       "      <td>0</td>\n",
       "      <td>0</td>\n",
       "      <td>purchase</td>\n",
       "      <td>1.0</td>\n",
       "    </tr>\n",
       "    <tr>\n",
       "      <th>2</th>\n",
       "      <td>0</td>\n",
       "      <td>1</td>\n",
       "      <td>purchase</td>\n",
       "      <td>1.0</td>\n",
       "    </tr>\n",
       "    <tr>\n",
       "      <th>4</th>\n",
       "      <td>0</td>\n",
       "      <td>2</td>\n",
       "      <td>purchase</td>\n",
       "      <td>1.0</td>\n",
       "    </tr>\n",
       "    <tr>\n",
       "      <th>6</th>\n",
       "      <td>0</td>\n",
       "      <td>3</td>\n",
       "      <td>purchase</td>\n",
       "      <td>1.0</td>\n",
       "    </tr>\n",
       "    <tr>\n",
       "      <th>8</th>\n",
       "      <td>0</td>\n",
       "      <td>4</td>\n",
       "      <td>purchase</td>\n",
       "      <td>1.0</td>\n",
       "    </tr>\n",
       "    <tr>\n",
       "      <th>...</th>\n",
       "      <td>...</td>\n",
       "      <td>...</td>\n",
       "      <td>...</td>\n",
       "      <td>...</td>\n",
       "    </tr>\n",
       "    <tr>\n",
       "      <th>6</th>\n",
       "      <td>12393</td>\n",
       "      <td>628</td>\n",
       "      <td>purchase</td>\n",
       "      <td>1.0</td>\n",
       "    </tr>\n",
       "    <tr>\n",
       "      <th>7</th>\n",
       "      <td>12393</td>\n",
       "      <td>280</td>\n",
       "      <td>purchase</td>\n",
       "      <td>1.0</td>\n",
       "    </tr>\n",
       "    <tr>\n",
       "      <th>8</th>\n",
       "      <td>12393</td>\n",
       "      <td>117</td>\n",
       "      <td>purchase</td>\n",
       "      <td>1.0</td>\n",
       "    </tr>\n",
       "    <tr>\n",
       "      <th>9</th>\n",
       "      <td>12393</td>\n",
       "      <td>8</td>\n",
       "      <td>purchase</td>\n",
       "      <td>1.0</td>\n",
       "    </tr>\n",
       "    <tr>\n",
       "      <th>10</th>\n",
       "      <td>12393</td>\n",
       "      <td>75</td>\n",
       "      <td>purchase</td>\n",
       "      <td>1.0</td>\n",
       "    </tr>\n",
       "  </tbody>\n",
       "</table>\n",
       "<p>129522 rows × 4 columns</p>\n",
       "</div>"
      ],
      "text/plain": [
       "    User ID Name      Type  Hours\n",
       "0         0    0  purchase    1.0\n",
       "2         0    1  purchase    1.0\n",
       "4         0    2  purchase    1.0\n",
       "6         0    3  purchase    1.0\n",
       "8         0    4  purchase    1.0\n",
       "..      ...  ...       ...    ...\n",
       "6     12393  628  purchase    1.0\n",
       "7     12393  280  purchase    1.0\n",
       "8     12393  117  purchase    1.0\n",
       "9     12393    8  purchase    1.0\n",
       "10    12393   75  purchase    1.0\n",
       "\n",
       "[129522 rows x 4 columns]"
      ]
     },
     "execution_count": 53,
     "metadata": {},
     "output_type": "execute_result"
    }
   ],
   "source": [
    "import csv\n",
    "\n",
    "with open(\"GGs 489 survey (Responses) - Form Responses 1.csv\", newline='') as f:\n",
    "    reader = csv.reader(f)\n",
    "    data = list(reader)\n",
    "\n",
    "data = data[1:]\n",
    "\n",
    "for i in range (len(data)):\n",
    "    data[i][1] = data[i][1].split(\", \")\n",
    "\n",
    "#Collect the survey data into survey_df\n",
    "survey_data = []\n",
    "for i in range (len(data)):\n",
    "    \n",
    "    user_old2new_id_dict[data[i][2]] = user_count_j\n",
    "    user_count_j += 1\n",
    "    \n",
    "    for k in data[i][1]:\n",
    "        \n",
    "        survey_data.append([user_old2new_id_dict[data[i][2]],game_old2new_id_dict[k],\"purchase\",1.0])\n",
    "\n",
    "survey_df = pd.DataFrame(survey_data,columns=[\"User ID\",\"Name\",\"Type\",\"Hours\"])\n",
    "\n",
    "#attach the survey data to the given data\n",
    "data_df.append(survey_df,ignore_index=True)\n"
   ]
  },
  {
   "cell_type": "code",
   "execution_count": 37,
   "metadata": {
    "scrolled": true
   },
   "outputs": [
    {
     "name": "stdout",
     "output_type": "stream",
     "text": [
      "The testing dataframe is of size: 38853\n",
      "The training dataframe is of size: 90658\n"
     ]
    }
   ],
   "source": [
    "test_df = data_df.sample(frac = 0.3, random_state = np.random.randint(1024))\n",
    "train_df = data_df.drop(test_df.index)\n",
    "\n",
    "print (\"The testing dataframe is of size: \" + str(len(test_df)))\n",
    "print (\"The training dataframe is of size: \" + str(len(train_df)))"
   ]
  },
  {
   "cell_type": "code",
   "execution_count": 5,
   "metadata": {},
   "outputs": [],
   "source": [
    "num_user = len(data_df['User ID'].unique())\n",
    "num_game = len(data_df['Name'].unique())\n",
    "\n",
    "data_mat = coo_matrix((data_df['Hours'].values, (data_df['User ID'].values, data_df['Name'].values)), shape=(num_user, num_game)).toarray().astype(float)\n",
    "train_mat = coo_matrix((train_df['Hours'].values, (train_df['User ID'].values, train_df['Name'].values)), shape=(num_user, num_game)).toarray().astype(float)\n",
    "test_mat = coo_matrix((test_df['Hours'].values, (test_df['User ID'].values, test_df['Name'].values)), shape=(num_user, num_game)).toarray().astype(float)"
   ]
  },
  {
   "cell_type": "code",
   "execution_count": null,
   "metadata": {},
   "outputs": [],
   "source": []
  }
 ],
 "metadata": {
  "kernelspec": {
   "display_name": "Python 3",
   "language": "python",
   "name": "python3"
  },
  "language_info": {
   "codemirror_mode": {
    "name": "ipython",
    "version": 3
   },
   "file_extension": ".py",
   "mimetype": "text/x-python",
   "name": "python",
   "nbconvert_exporter": "python",
   "pygments_lexer": "ipython3",
   "version": "3.8.5"
  }
 },
 "nbformat": 4,
 "nbformat_minor": 5
}
