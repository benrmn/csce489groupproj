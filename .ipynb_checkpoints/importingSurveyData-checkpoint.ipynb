{
 "cells": [
  {
   "cell_type": "code",
   "execution_count": 84,
   "metadata": {
    "scrolled": false
   },
   "outputs": [],
   "source": [
    "import pandas as pd\n",
    "import numpy as np\n",
    "from scipy.sparse import coo_matrix\n",
    "import csv"
   ]
  },
  {
   "cell_type": "code",
   "execution_count": 95,
   "metadata": {
    "scrolled": false
   },
   "outputs": [],
   "source": [
    "data_df = pd.read_csv('./Steam.csv', sep=',', names=[\"User ID\",\"Name\",\"Type\",\"Hours\"], engine='python')\n",
    "#data_df = data_df[data_df[\"Type\"] == \"purchase\"]\n",
    "\n",
    "\n",
    "unique_GameID = data_df['Name'].unique()\n",
    "unique_UserID = data_df['User ID'].unique()\n",
    "\n",
    "user_count_j = 0\n",
    "user_old2new_id_dict = dict()\n",
    "for u in unique_UserID:\n",
    "    user_old2new_id_dict[u] = user_count_j\n",
    "    user_count_j += 1\n",
    "\n",
    "game_count_j = 0\n",
    "game_old2new_id_dict = dict()\n",
    "for i in unique_GameID:\n",
    "    game_old2new_id_dict[i] = game_count_j\n",
    "    game_count_j += 1\n",
    "\n",
    "# Then, use the generated dictionaries to reindex UserID and MovieID in the data_df\n",
    "for j in range(len(data_df)):\n",
    "    data_df.at[j, 'User ID'] = user_old2new_id_dict[data_df.at[j, 'User ID']]\n",
    "   \n",
    "    \n",
    "    data_df.at[j, 'Name'] = game_old2new_id_dict[data_df.at[j, 'Name']]\n",
    "\n",
    "data_df = data_df[data_df[\"Type\"] == \"purchase\"]\n",
    "\n",
    "#import survey data:\n",
    "\n",
    "with open(\"GGs 489 survey.csv\", newline='') as f:\n",
    "    reader = csv.reader(f)\n",
    "    data = list(reader)\n",
    "\n",
    "data = data[1:]\n",
    "\n",
    "for i in range (len(data)):\n",
    "    data[i][1] = data[i][1].split(\";\")\n",
    "\n",
    "#Collect the survey data into survey_df\n",
    "survey_data = []\n",
    "\n",
    "for i in range (len(data)):\n",
    "    \n",
    "    user_old2new_id_dict[data[i][2]] = user_count_j\n",
    "    user_count_j += 1\n",
    "    for k in data[i][1]:\n",
    "        survey_data.append([user_old2new_id_dict[data[i][2]],game_old2new_id_dict[k],\"purchase\",1.0])\n",
    "\n",
    "survey_df = pd.DataFrame(survey_data,columns=[\"User ID\",\"Name\",\"Type\",\"Hours\"])\n",
    "\n",
    "#attach the survey data to the given data\n",
    "data_df = data_df.append(survey_df,ignore_index=True)\n"
   ]
  },
  {
   "cell_type": "code",
   "execution_count": 96,
   "metadata": {
    "scrolled": true
   },
   "outputs": [
    {
     "name": "stdout",
     "output_type": "stream",
     "text": [
      "The testing dataframe is of size: 38859\n",
      "The training dataframe is of size: 90670\n"
     ]
    }
   ],
   "source": [
    "test_df = data_df.sample(frac = 0.3, random_state = np.random.randint(1024))\n",
    "train_df = data_df.drop(test_df.index)\n",
    "\n",
    "print (\"The testing dataframe is of size: \" + str(len(test_df)))\n",
    "print (\"The training dataframe is of size: \" + str(len(train_df)))"
   ]
  },
  {
   "cell_type": "code",
   "execution_count": 94,
   "metadata": {},
   "outputs": [],
   "source": [
    "num_user = len(data_df['User ID'].unique())\n",
    "num_game = len(data_df['Name'].unique())\n",
    "\n",
    "data_mat = coo_matrix((data_df['Hours'].values, (data_df['User ID'].values, data_df['Name'].values)), shape=(num_user, num_game)).toarray().astype(float)\n",
    "train_mat = coo_matrix((train_df['Hours'].values, (train_df['User ID'].values, train_df['Name'].values)), shape=(num_user, num_game)).toarray().astype(float)\n",
    "test_mat = coo_matrix((test_df['Hours'].values, (test_df['User ID'].values, test_df['Name'].values)), shape=(num_user, num_game)).toarray().astype(float)"
   ]
  },
  {
   "cell_type": "code",
   "execution_count": 111,
   "metadata": {},
   "outputs": [
    {
     "name": "stdout",
     "output_type": "stream",
     "text": [
      "User: Markus has value 1.0 for game: The Elder Scrolls V Skyrim\n"
     ]
    }
   ],
   "source": [
    "#in order to extract user id and games from matrix use inverse dictionaries:\n",
    "inv_names = {v: k for k, v in game_old2new_id_dict.items()}\n",
    "inv_users = {v: k for k, v in user_old2new_id_dict.items()}\n",
    "\n",
    "usertest = 12394\n",
    "gametest = 0\n",
    "print (\"User: \" + str(inv_users[usertest]) + \" has value \"+ str(data_mat[usertest,gametest]) + \" for game: \"+ str(inv_names[gametest]))"
   ]
  },
  {
   "cell_type": "code",
   "execution_count": null,
   "metadata": {},
   "outputs": [],
   "source": []
  }
 ],
 "metadata": {
  "kernelspec": {
   "display_name": "Python 3",
   "language": "python",
   "name": "python3"
  },
  "language_info": {
   "codemirror_mode": {
    "name": "ipython",
    "version": 3
   },
   "file_extension": ".py",
   "mimetype": "text/x-python",
   "name": "python",
   "nbconvert_exporter": "python",
   "pygments_lexer": "ipython3",
   "version": "3.8.5"
  }
 },
 "nbformat": 4,
 "nbformat_minor": 5
}
